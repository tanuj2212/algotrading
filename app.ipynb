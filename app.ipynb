{
 "cells": [
  {
   "cell_type": "code",
   "execution_count": 5,
   "id": "978f6387",
   "metadata": {},
   "outputs": [
    {
     "name": "stderr",
     "output_type": "stream",
     "text": [
      "Using TensorFlow backend.\n"
     ]
    },
    {
     "ename": "NameError",
     "evalue": "name '_name_' is not defined",
     "output_type": "error",
     "traceback": [
      "\u001b[1;31m---------------------------------------------------------------------------\u001b[0m",
      "\u001b[1;31mNameError\u001b[0m                                 Traceback (most recent call last)",
      "\u001b[1;32m<ipython-input-5-26d4c04fc210>\u001b[0m in \u001b[0;36m<module>\u001b[1;34m\u001b[0m\n\u001b[0;32m     10\u001b[0m \u001b[1;33m\u001b[0m\u001b[0m\n\u001b[0;32m     11\u001b[0m \u001b[1;31m# Initialise the Flask app\u001b[0m\u001b[1;33m\u001b[0m\u001b[1;33m\u001b[0m\u001b[1;33m\u001b[0m\u001b[0m\n\u001b[1;32m---> 12\u001b[1;33m \u001b[0mapp\u001b[0m \u001b[1;33m=\u001b[0m \u001b[0mflask\u001b[0m\u001b[1;33m(\u001b[0m\u001b[0m_name_\u001b[0m\u001b[1;33m,\u001b[0m \u001b[0mtemplate_folder\u001b[0m\u001b[1;33m=\u001b[0m\u001b[1;34m'templates'\u001b[0m\u001b[1;33m)\u001b[0m\u001b[1;33m\u001b[0m\u001b[1;33m\u001b[0m\u001b[0m\n\u001b[0m\u001b[0;32m     13\u001b[0m \u001b[1;33m\u001b[0m\u001b[0m\n\u001b[0;32m     14\u001b[0m \u001b[1;31m# Set up the main route\u001b[0m\u001b[1;33m\u001b[0m\u001b[1;33m\u001b[0m\u001b[1;33m\u001b[0m\u001b[0m\n",
      "\u001b[1;31mNameError\u001b[0m: name '_name_' is not defined"
     ]
    }
   ],
   "source": [
    "import flask\n",
    "from flask import Flask\n",
    "\n",
    "import pickle\n",
    "import pandas as pd\n",
    "\n",
    "# Use pickle to load in the pre-trained model\n",
    "with open('mk.pkl', 'rb') as f:\n",
    "    model = pickle.load(f)\n",
    "\n",
    "# Initialise the Flask app\n",
    "app = flask(_name_, template_folder='templates')\n",
    "\n",
    "# Set up the main route\n",
    "@app.route('/', methods=['GET', 'POST'])\n",
    "def main():\n",
    "    if flask.request.method == 'GET':\n",
    "        # Just render the initial form, to get input\n",
    "        return(flask.render_template('main.html'))\n",
    "    \n",
    "    if flask.request.method == 'POST':\n",
    "        # Extract the input\n",
    "        cmp_name = flask.request.form['Enter the company name :']\n",
    "        date = flask.request.form['Enter the future date :']\n",
    "\n",
    "        # Make DataFrame for model\n",
    "        input_variables = pd.DataFrame([[cmp_name,date]],\n",
    "                                       columns=['cmp_name', 'date'],\n",
    "                                       dtype=float,\n",
    "                                       index=['input'])\n",
    "\n",
    "        # Get the model's prediction\n",
    "        prediction = model.predict(input_variables)[0]\n",
    "    \n",
    "        # Render the form again, but add in the prediction and remind user\n",
    "        # of the values they input before\n",
    "        return flask.render_template('main.html',\n",
    "                                     original_input={'cmp_name':cmp_name,\n",
    "                                                     'date':date},\n",
    "                                     result=prediction,\n",
    "                                     )\n",
    "\n",
    "if _name_ == '_main_':\n",
    "    app.run()"
   ]
  },
  {
   "cell_type": "code",
   "execution_count": null,
   "id": "9710cfce",
   "metadata": {},
   "outputs": [],
   "source": []
  }
 ],
 "metadata": {
  "kernelspec": {
   "display_name": "Python 3",
   "language": "python",
   "name": "python3"
  },
  "language_info": {
   "codemirror_mode": {
    "name": "ipython",
    "version": 3
   },
   "file_extension": ".py",
   "mimetype": "text/x-python",
   "name": "python",
   "nbconvert_exporter": "python",
   "pygments_lexer": "ipython3",
   "version": "3.6.13"
  }
 },
 "nbformat": 4,
 "nbformat_minor": 5
}
